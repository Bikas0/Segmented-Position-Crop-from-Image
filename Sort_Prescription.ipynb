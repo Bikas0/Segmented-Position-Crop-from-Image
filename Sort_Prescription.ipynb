{
  "nbformat": 4,
  "nbformat_minor": 0,
  "metadata": {
    "colab": {
      "provenance": [],
      "gpuType": "T4"
    },
    "kernelspec": {
      "name": "python3",
      "display_name": "Python 3"
    },
    "language_info": {
      "name": "python"
    },
    "accelerator": "GPU"
  },
  "cells": [
    {
      "cell_type": "code",
      "source": [
        "from google.colab import drive\n",
        "drive.mount('/content/drive')"
      ],
      "metadata": {
        "colab": {
          "base_uri": "https://localhost:8080/"
        },
        "id": "JnNQDOuPKjAC",
        "outputId": "4141a397-8297-4e9f-b0f1-fb207c8c9dc2"
      },
      "execution_count": 1,
      "outputs": [
        {
          "output_type": "stream",
          "name": "stdout",
          "text": [
            "Drive already mounted at /content/drive; to attempt to forcibly remount, call drive.mount(\"/content/drive\", force_remount=True).\n"
          ]
        }
      ]
    },
    {
      "cell_type": "code",
      "source": [
        "!pip install ultralytics -q"
      ],
      "metadata": {
        "id": "qjBf6isJKVmi"
      },
      "execution_count": null,
      "outputs": []
    },
    {
      "cell_type": "code",
      "execution_count": 15,
      "metadata": {
        "colab": {
          "base_uri": "https://localhost:8080/"
        },
        "id": "N3wC2otrKIxd",
        "outputId": "98d2de10-8cbe-4442-abd6-6114ce6947e0"
      },
      "outputs": [
        {
          "output_type": "stream",
          "name": "stdout",
          "text": [
            "\n",
            "image 1/1 /content/drive/MyDrive/Prescription Sorting/image/Scanned_20231214-1132_page-0007.jpg: 640x512 9 Liness, 81.4ms\n",
            "Speed: 4.1ms preprocess, 81.4ms inference, 2.0ms postprocess per image at shape (1, 3, 640, 512)\n"
          ]
        }
      ],
      "source": [
        "from pathlib import Path\n",
        "import time\n",
        "import cv2\n",
        "import numpy as np\n",
        "from ultralytics import YOLO\n",
        "import os\n",
        "\n",
        "separation_seg = YOLO('/content/drive/MyDrive/Prescription Sorting/text_line_segmentation_best.pt')\n",
        "\n",
        "def roiSegmentation(image, save_path):\n",
        "    res = separation_seg.predict(source=image, conf=0.25)\n",
        "    for r in res:\n",
        "        img = np.copy(r.orig_img)\n",
        "        img_name = Path(r.path).stem\n",
        "\n",
        "        for ci, c in enumerate(r):\n",
        "            label = c.names[c.boxes.cls.tolist().pop()]\n",
        "            if c.masks is not None and c.masks.xy is not None:  # Check if masks are available\n",
        "                contour = c.masks.xy.pop().astype(np.int32).reshape(-1, 1, 2)\n",
        "                b_mask = np.zeros(img.shape[:2], np.uint8)\n",
        "                _ = cv2.drawContours(b_mask, [contour], -1, (255, 255, 255), cv2.FILLED)\n",
        "                mask3ch = cv2.cvtColor(b_mask, cv2.COLOR_GRAY2BGR)\n",
        "                isolated = cv2.bitwise_and(mask3ch, img)\n",
        "\n",
        "                x1, y1, x2, y2 = c.boxes.xyxy.cpu().numpy().squeeze().astype(np.int32)\n",
        "                iso_crop = isolated[y1:y2, x1:x2]\n",
        "                # segmented_file_name = f'{img_name}{label}-{ci}.png'\n",
        "                segmented_file_name = f'{y1}.png'\n",
        "                segmented_file_name = os.path.join(save_path, segmented_file_name)\n",
        "                _ = cv2.imwrite(segmented_file_name, iso_crop)\n",
        "            else:\n",
        "                print(\"No contour masks found for\", img_name, label)\n",
        "            # cv2.imshow(\"window\", iso_crop)\n",
        "            #cv2.waitKey(0)\n",
        "            #cv2.destroyAllWindows()\n",
        "    # return res\n",
        "\n",
        "\n",
        "# image_list = os.listdir(\"/content/drive/MyDrive/Prescription Sorting/image\")\n",
        "# print(image_list)\n",
        "presp_text = \"/content/drive/MyDrive/Prescription Sorting/PrespText\"\n",
        "\n",
        "# for image in image_list:\n",
        "#   print(image)\n",
        "#   image_name = os.path.join(\"/content/drive/MyDrive/Prescription Sorting/image\", image)\n",
        "#   print(image_name)\n",
        "#   roiSegmentation(image_name, presp_text)\n",
        "#   print(image, \"-- Completed\")\n",
        "#   break\n",
        "\n",
        "roiSegmentation(\"/content/drive/MyDrive/Prescription Sorting/image/Scanned_20231214-1132_page-0007.jpg\", presp_text)"
      ]
    },
    {
      "cell_type": "code",
      "source": [
        "# res\n"
      ],
      "metadata": {
        "id": "pVh1hmedLyyo"
      },
      "execution_count": 16,
      "outputs": []
    },
    {
      "cell_type": "code",
      "source": [
        "masks.xy\n",
        "masks.xyn"
      ],
      "metadata": {
        "id": "LhVYBuEuSHO9"
      },
      "execution_count": null,
      "outputs": []
    },
    {
      "cell_type": "code",
      "source": [],
      "metadata": {
        "id": "eb6j-SP6VI44"
      },
      "execution_count": null,
      "outputs": []
    },
    {
      "cell_type": "code",
      "source": [],
      "metadata": {
        "id": "CfI8aFLQVI7V"
      },
      "execution_count": null,
      "outputs": []
    },
    {
      "cell_type": "code",
      "source": [
        "from pathlib import Path\n",
        "import cv2\n",
        "import numpy as np\n",
        "from ultralytics import YOLO\n",
        "import os\n",
        "\n",
        "# Load the YOLO model for text line segmentation\n",
        "separation_seg = YOLO('/content/drive/MyDrive/Prescription Sorting/text_line_segmentation_best.pt')\n",
        "\n",
        "def roiSegmentation(image, save_path):\n",
        "    # Predict text line segmentation on the input image\n",
        "    res = separation_seg.predict(source=image, conf=0.25)\n",
        "    for r in res:\n",
        "        img = np.copy(r.orig_img)\n",
        "        img_name = Path(r.path).stem\n",
        "\n",
        "        # Sort contours based on y-coordinate in ascending order\n",
        "        contours_sorted = sorted(r, key=lambda x: x.boxes.xyxy[0][1])\n",
        "\n",
        "        for ci, c in enumerate(contours_sorted):\n",
        "            label = c.names[c.boxes.cls.tolist().pop()]\n",
        "            if c.masks is not None and c.masks.xy is not None:  # Check if masks are available\n",
        "                contour = c.masks.xy.pop().astype(np.int32).reshape(-1, 1, 2)\n",
        "                b_mask = np.zeros(img.shape[:2], np.uint8)\n",
        "                _ = cv2.drawContours(b_mask, [contour], -1, (255, 255, 255), cv2.FILLED)\n",
        "                mask3ch = cv2.cvtColor(b_mask, cv2.COLOR_GRAY2BGR)\n",
        "                isolated = cv2.bitwise_and(mask3ch, img)\n",
        "\n",
        "                x1, y1, x2, y2 = c.boxes.xyxy.cpu().numpy().squeeze().astype(np.int32)\n",
        "                iso_crop = isolated[y1:y2, x1:x2]\n",
        "                # Formulate the segmented file name based on y-coordinate\n",
        "                segmented_file_name = f'{y1}.png'\n",
        "                segmented_file_name = os.path.join(save_path, segmented_file_name)\n",
        "                _ = cv2.imwrite(segmented_file_name, iso_crop)\n",
        "            else:\n",
        "                print(\"No contour masks found for\", img_name, label)\n",
        "\n",
        "# Define the path to save the segmented images\n",
        "presp_text = \"/content/drive/MyDrive/Prescription Sorting/PrespText\"\n",
        "\n",
        "# Call roiSegmentation function with the input image and save path\n",
        "roiSegmentation(\"/content/Madinah-Medical-20.jpg\", presp_text)\n"
      ],
      "metadata": {
        "colab": {
          "base_uri": "https://localhost:8080/"
        },
        "id": "O73K_UtkVI-P",
        "outputId": "38767e75-36af-4adb-a632-0836f4990c9d"
      },
      "execution_count": 34,
      "outputs": [
        {
          "output_type": "stream",
          "name": "stdout",
          "text": [
            "\n",
            "image 1/1 /content/Madinah-Medical-20.jpg: 640x448 10 Liness, 64.2ms\n",
            "Speed: 2.8ms preprocess, 64.2ms inference, 3.0ms postprocess per image at shape (1, 3, 640, 448)\n"
          ]
        }
      ]
    },
    {
      "cell_type": "code",
      "source": [
        "# Delete File\n",
        "\n",
        "import os\n",
        "\n",
        "# Specify the directory containing the files\n",
        "directory = '/content/drive/MyDrive/Prescription Sorting/PrespText'\n",
        "\n",
        "# Get a list of all files in the directory\n",
        "files = os.listdir(directory)\n",
        "\n",
        "# Iterate over each file and delete it\n",
        "for file in files:\n",
        "    file_path = os.path.join(directory, file)\n",
        "    if os.path.isfile(file_path):\n",
        "        os.remove(file_path)\n",
        "    else:\n",
        "        print(f\"Skipping {file_path} as it is not a file.\")\n"
      ],
      "metadata": {
        "id": "3bANiKnxWvHO"
      },
      "execution_count": 33,
      "outputs": []
    },
    {
      "cell_type": "code",
      "source": [
        "list = os.listdir('/content/drive/MyDrive/Prescription Sorting/PrespText')\n",
        "print(list)"
      ],
      "metadata": {
        "colab": {
          "base_uri": "https://localhost:8080/"
        },
        "id": "er-5RQJ4W9AR",
        "outputId": "8330c9a1-72c9-41e4-ed7d-dc5498f9b30b"
      },
      "execution_count": 35,
      "outputs": [
        {
          "output_type": "stream",
          "name": "stdout",
          "text": [
            "['311.png', '340.png', '341.png', '363.png', '364.png', '394.png', '415.png', '458.png', '485.png', '535.png']\n"
          ]
        }
      ]
    },
    {
      "cell_type": "code",
      "source": [],
      "metadata": {
        "id": "iSFeQFovYlMX"
      },
      "execution_count": null,
      "outputs": []
    }
  ]
}